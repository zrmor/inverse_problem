{
 "cells": [
  {
   "cell_type": "markdown",
   "metadata": {},
   "source": [
    "# Setup for Colab"
   ]
  },
  {
   "cell_type": "code",
   "execution_count": null,
   "metadata": {},
   "outputs": [],
   "source": [
    "!git clone https://github.com/zrmor/inverse_problem.git\n",
    "\n",
    "!pip install pytorch_lightning python-dotenv\n",
    "\n",
    "!python /content/inverse_problem/code/functions.py\n",
    "!python /content/inverse_problem/code/models.py\n",
    "\n",
    "import sys\n",
    "sys.path.append('/content/inverse_problem/code')"
   ]
  },
  {
   "cell_type": "markdown",
   "metadata": {},
   "source": [
    "# Initial setup"
   ]
  },
  {
   "cell_type": "code",
   "execution_count": 11,
   "metadata": {},
   "outputs": [],
   "source": [
    "import os\n",
    "import numpy as np\n",
    "import seaborn as sns\n",
    "from getpass import getpass\n",
    "from dotenv import load_dotenv\n",
    "import matplotlib.pyplot as plt\n",
    "\n",
    "import wandb\n",
    "import torch\n",
    "import pytorch_lightning as pl\n",
    "from sklearn.model_selection import KFold, train_test_split\n",
    "from sklearn.metrics import roc_curve, auc, precision_recall_curve, average_precision_score, confusion_matrix\n",
    "\n",
    "from torch.utils.data import DataLoader\n",
    "from pytorch_lightning.callbacks import ModelCheckpoint\n",
    "from pytorch_lightning.loggers import WandbLogger\n",
    "\n",
    "from models import CNNClassifier, MatrixDataset, get_feature_maps"
   ]
  },
  {
   "cell_type": "markdown",
   "metadata": {},
   "source": [
    "# Load and prepare data"
   ]
  },
  {
   "cell_type": "code",
   "execution_count": 2,
   "metadata": {},
   "outputs": [
    {
     "name": "stdout",
     "output_type": "stream",
     "text": [
      "Number of C and kmeans labels:\n",
      " 1326, 1326\n",
      "\n"
     ]
    }
   ],
   "source": [
    "# Load data\n",
    "data_path = \"../data/\"\n",
    "\n",
    "all_C = np.load(data_path + 'all_C.npy') # 1326 input matrices of size 30x30\n",
    "# nMF_label = np.load(data_path + 'nMF_labels.npy') # 1326 output labels (0 or 1)\n",
    "kmeans_label = np.load(data_path + 'KMeans_labels_k3.npy') # 1326 output labels (0, 1 or 2)\n",
    "\n",
    "print(f\"Number of C and kmeans labels:\\n {len(all_C)}, {len(kmeans_label)}\\n\")"
   ]
  },
  {
   "cell_type": "code",
   "execution_count": 3,
   "metadata": {},
   "outputs": [
    {
     "name": "stdout",
     "output_type": "stream",
     "text": [
      "Number of Cs and labels after removing those with kmeans zero labels:\n",
      " 1325, 1325\n",
      "\n"
     ]
    }
   ],
   "source": [
    "# Remove C with zero kmean labels \n",
    "non_zero_indices = np.where(kmeans_label != 0)[0]\n",
    "all_C = all_C[non_zero_indices]\n",
    "kmeans_label = kmeans_label[non_zero_indices]\n",
    "\n",
    "print(f\"Number of Cs and labels after removing those with kmeans zero labels:\\n {len(all_C)}, {len(kmeans_label)}\\n\")"
   ]
  },
  {
   "cell_type": "code",
   "execution_count": 4,
   "metadata": {},
   "outputs": [
    {
     "name": "stdout",
     "output_type": "stream",
     "text": [
      "Updated kmeans_label: (array([0, 1], dtype=int32), array([795, 530]))\n"
     ]
    }
   ],
   "source": [
    "# Replace values in kmeans_label \n",
    "kmeans_label[kmeans_label == 1] = 0  # Replace 1 with 0\n",
    "kmeans_label[kmeans_label == 2] = 1  # Replace 2 with 1\n",
    "\n",
    "print(f\"Updated kmeans_label: {np.unique(kmeans_label, return_counts=True)}\")"
   ]
  },
  {
   "cell_type": "code",
   "execution_count": 5,
   "metadata": {},
   "outputs": [
    {
     "name": "stdout",
     "output_type": "stream",
     "text": [
      "Number of input matrices with kmeans label 0: 795\n",
      "Number of input matrices with kmeans label 1: 530\n"
     ]
    }
   ],
   "source": [
    "class_0_C = all_C[kmeans_label == 0] \n",
    "class_1_C = all_C[kmeans_label == 1] \n",
    "\n",
    "print(f\"Number of input matrices with kmeans label 0: {class_0_C.shape[0]}\")\n",
    "print(f\"Number of input matrices with kmeans label 1: {class_1_C.shape[0]}\")"
   ]
  },
  {
   "cell_type": "markdown",
   "metadata": {},
   "source": [
    "# Training the Model"
   ]
  },
  {
   "cell_type": "code",
   "execution_count": 6,
   "metadata": {},
   "outputs": [],
   "source": [
    "best_params_global = None\n",
    "\n",
    "# Load environment variables from .env file\n",
    "load_dotenv()\n",
    "\n",
    "# Get my API key from environment variable first\n",
    "wandb_key = os.getenv('WANDB_API_KEY')\n",
    "\n",
    "# If not found in environment, prompt user\n",
    "if not wandb_key:\n",
    "    wandb_key = getpass(\"Enter your Weights & Biases API key: \")\n",
    "\n",
    "wandb.login(key=wandb_key)\n",
    "\n",
    "# Define sweep configuration\n",
    "sweep_config = {\n",
    "    'method': 'grid', \n",
    "    'name': 'sweep',\n",
    "    'metric': {\n",
    "        'goal': 'maximize',\n",
    "        'name': 'val_acc'\n",
    "    },\n",
    "    'parameters': {\n",
    "        'learning_rate': {\n",
    "            'values': [1e-5]\n",
    "        },\n",
    "        'conv_channels': {\n",
    "            'values': [[1, 32, 64, 128]]\n",
    "        },\n",
    "        'fc_units': {\n",
    "            'values': [[1152, 128, 2]]\n",
    "        },\n",
    "        'dropout_rate': {\n",
    "            'values': [0.5]\n",
    "        },\n",
    "        'batch_size': {\n",
    "            'values': [128]\n",
    "        }\n",
    "    }\n",
    "}\n",
    "\n",
    "# Initialize sweep\n",
    "sweep_id = wandb.sweep(sweep=sweep_config, project=\"inverse_problem\")\n",
    "\n",
    "# Function to find the best parameters using kfold validation \n",
    "def find():\n",
    "    \n",
    "    wandb.init()\n",
    "    # Get sweep parameters\n",
    "    config = wandb.config\n",
    "     \n",
    "    global best_params_global\n",
    "    \n",
    "    # First split into train+val and test sets (80-20 split)\n",
    "    X_trainval, X_test, y_trainval, y_test = train_test_split(\n",
    "        all_C, kmeans_label, test_size=0.2, random_state=42, stratify=kmeans_label\n",
    "    )\n",
    "\n",
    "    # K-fold setup for cross-validation on training data\n",
    "    kfold = KFold(n_splits=5, shuffle=True, random_state=42)\n",
    "\n",
    "    # Grid search with k-fold cross validation\n",
    "    best_val_acc = 0\n",
    "\n",
    "    print(\"Data split sizes:\")\n",
    "    print(f\"Train + Validation: {len(X_trainval)} samples\")\n",
    "    print(f\"Test: {len(X_test)} samples\\n\")\n",
    "\n",
    "    print(\"Starting grid search with k-fold cross validation\")\n",
    "\n",
    "    # K-fold cross validation\n",
    "    for fold, (train_idx, val_idx) in enumerate(kfold.split(X_trainval)):\n",
    "        print(f\"\\nFold {fold+1}/{kfold.n_splits}\")\n",
    "        \n",
    "        # Prepare data for this fold\n",
    "        X_train, X_val = X_trainval[train_idx], X_trainval[val_idx]\n",
    "        y_train, y_val = y_trainval[train_idx], y_trainval[val_idx]\n",
    "        \n",
    "        train_dataset = MatrixDataset(X_train, y_train)\n",
    "        val_dataset = MatrixDataset(X_val, y_val)\n",
    "        \n",
    "        train_loader = DataLoader(train_dataset, batch_size=config.batch_size, shuffle=True)\n",
    "        val_loader = DataLoader(val_dataset, batch_size=config.batch_size)\n",
    "        \n",
    "        # Initialize model and trainer\n",
    "        model = CNNClassifier(\n",
    "            learning_rate=config.learning_rate,\n",
    "            conv_channels=config.conv_channels,\n",
    "            fc_units=config.fc_units,\n",
    "            dropout_rate=config.dropout_rate\n",
    "        )\n",
    "        \n",
    "        checkpoint_callback = ModelCheckpoint(\n",
    "            monitor='val_acc',\n",
    "            dirpath='checkpoints/',\n",
    "            filename=f'fold{fold}_lr{config.learning_rate:.4f}_conv{config.conv_channels}_fc{config.fc_units}_dropout{config.dropout_rate:.2f}_batch{config.batch_size}.ckpt',\n",
    "            save_top_k=1,\n",
    "            mode='max'\n",
    "        )\n",
    "        \n",
    "        trainer = pl.Trainer(\n",
    "            max_epochs=100,\n",
    "            logger=WandbLogger(project=\"inverse_problem\"),\n",
    "            callbacks=[checkpoint_callback],\n",
    "            accelerator='auto',\n",
    "            log_every_n_steps=1\n",
    "        )\n",
    "\n",
    "        # Train model\n",
    "        print(\"Training model...\")\n",
    "        trainer.fit(model, train_loader, val_loader)\n",
    "        \n",
    "        fold_score = checkpoint_callback.best_model_score.item()\n",
    "        print(f\"Fold {fold+1} best validation accuracy: {fold_score:.4f}\")\n",
    "\n",
    "        # Update best parameters if necessary\n",
    "        if fold_score > best_val_acc:\n",
    "            best_val_acc = fold_score\n",
    "            best_params_global = {\n",
    "                'learning_rate': config.learning_rate,\n",
    "                'conv_channels': config.conv_channels,\n",
    "                'fc_units': config.fc_units,\n",
    "                'dropout_rate': config.dropout_rate,\n",
    "                'batch_size': config.batch_size\n",
    "            }\n",
    "            print(\"\\n🌟 New best model found!\")\n",
    "            print(f\"Best validation accuracy so far: {best_val_acc:.4f}\")\n",
    "\n",
    "    wandb.finish()\n",
    "    print(\"\\nFinished wandb run for kfold validation.\")\n",
    "\n",
    "# Start the sweep for kfold validation\n",
    "wandb.agent(sweep_id, function=find, count=1) \n",
    "wandb.finish()\n"
   ]
  },
  {
   "cell_type": "code",
   "execution_count": 7,
   "metadata": {},
   "outputs": [],
   "source": [
    "# Best params acquired from previous kfold training\n",
    "best_params_global = {\n",
    "        'learning_rate': 1e-5,\n",
    "        'conv_channels': [1, 32, 64, 128],\n",
    "        'fc_units': [1152, 128, 2],\n",
    "        'dropout_rate': 0.5,\n",
    "        'batch_size': 128\n",
    "        }"
   ]
  },
  {
   "cell_type": "code",
   "execution_count": 14,
   "metadata": {},
   "outputs": [
    {
     "name": "stdout",
     "output_type": "stream",
     "text": [
      "Data split sizes:\n",
      "Train: 1060 samples\n",
      "Test: 265 samples\n",
      "\n",
      "\n",
      "Training final model with best parameters...\n"
     ]
    },
    {
     "data": {
      "text/html": [
       "Tracking run with wandb version 0.18.7"
      ],
      "text/plain": [
       "<IPython.core.display.HTML object>"
      ]
     },
     "metadata": {},
     "output_type": "display_data"
    },
    {
     "data": {
      "text/html": [
       "Run data is saved locally in <code>/Users/zahra/Projects/ccnetlab/inverse_problem/code/wandb/run-20241227_004117-9dh0asfy</code>"
      ],
      "text/plain": [
       "<IPython.core.display.HTML object>"
      ]
     },
     "metadata": {},
     "output_type": "display_data"
    },
    {
     "data": {
      "text/html": [
       "Syncing run <strong><a href='https://wandb.ai/personlich/inverse_problem/runs/9dh0asfy' target=\"_blank\">Final_Training_lr1e-05_conv[1, 32, 64, 128]_fc[1152, 128, 2]_batch128_dropout0.5</a></strong> to <a href='https://wandb.ai/personlich/inverse_problem' target=\"_blank\">Weights & Biases</a> (<a href='https://wandb.me/developer-guide' target=\"_blank\">docs</a>)<br/>"
      ],
      "text/plain": [
       "<IPython.core.display.HTML object>"
      ]
     },
     "metadata": {},
     "output_type": "display_data"
    },
    {
     "data": {
      "text/html": [
       " View project at <a href='https://wandb.ai/personlich/inverse_problem' target=\"_blank\">https://wandb.ai/personlich/inverse_problem</a>"
      ],
      "text/plain": [
       "<IPython.core.display.HTML object>"
      ]
     },
     "metadata": {},
     "output_type": "display_data"
    },
    {
     "data": {
      "text/html": [
       " View run at <a href='https://wandb.ai/personlich/inverse_problem/runs/9dh0asfy' target=\"_blank\">https://wandb.ai/personlich/inverse_problem/runs/9dh0asfy</a>"
      ],
      "text/plain": [
       "<IPython.core.display.HTML object>"
      ]
     },
     "metadata": {},
     "output_type": "display_data"
    },
    {
     "name": "stderr",
     "output_type": "stream",
     "text": [
      "GPU available: False, used: False\n",
      "TPU available: False, using: 0 TPU cores\n",
      "HPU available: False, using: 0 HPUs\n",
      "/Users/zahra/anaconda3/envs/inverse_problem/lib/python3.11/site-packages/pytorch_lightning/trainer/configuration_validator.py:70: You defined a `validation_step` but have no `val_dataloader`. Skipping val loop.\n",
      "/Users/zahra/anaconda3/envs/inverse_problem/lib/python3.11/site-packages/pytorch_lightning/loggers/wandb.py:396: There is a wandb run already in progress and newly created instances of `WandbLogger` will reuse this run. If this is not desired, call `wandb.finish()` before instantiating `WandbLogger`.\n",
      "\n",
      "  | Name        | Type       | Params | Mode \n",
      "---------------------------------------------------\n",
      "0 | conv_layers | Sequential | 93.1 K | train\n",
      "1 | fc_layers   | Sequential | 147 K  | train\n",
      "---------------------------------------------------\n",
      "240 K     Trainable params\n",
      "0         Non-trainable params\n",
      "240 K     Total params\n",
      "0.964     Total estimated model params size (MB)\n",
      "20        Modules in train mode\n",
      "0         Modules in eval mode\n",
      "/Users/zahra/anaconda3/envs/inverse_problem/lib/python3.11/site-packages/pytorch_lightning/trainer/connectors/data_connector.py:424: The 'train_dataloader' does not have many workers which may be a bottleneck. Consider increasing the value of the `num_workers` argument` to `num_workers=3` in the `DataLoader` to improve performance.\n",
      "/Users/zahra/anaconda3/envs/inverse_problem/lib/python3.11/site-packages/pytorch_lightning/loops/fit_loop.py:298: The number of training batches (9) is smaller than the logging interval Trainer(log_every_n_steps=50). Set a lower value for log_every_n_steps if you want to see logs for the training epoch.\n"
     ]
    },
    {
     "name": "stdout",
     "output_type": "stream",
     "text": [
      "Epoch 99: 100%|██████████| 9/9 [00:01<00:00,  4.54it/s, v_num=asfy]"
     ]
    },
    {
     "name": "stderr",
     "output_type": "stream",
     "text": [
      "`Trainer.fit` stopped: `max_epochs=100` reached.\n"
     ]
    },
    {
     "name": "stdout",
     "output_type": "stream",
     "text": [
      "Epoch 99: 100%|██████████| 9/9 [00:02<00:00,  4.45it/s, v_num=asfy]\n"
     ]
    },
    {
     "name": "stderr",
     "output_type": "stream",
     "text": [
      "/Users/zahra/anaconda3/envs/inverse_problem/lib/python3.11/site-packages/pytorch_lightning/trainer/connectors/data_connector.py:424: The 'test_dataloader' does not have many workers which may be a bottleneck. Consider increasing the value of the `num_workers` argument` to `num_workers=3` in the `DataLoader` to improve performance.\n"
     ]
    },
    {
     "name": "stdout",
     "output_type": "stream",
     "text": [
      "Testing DataLoader 0: 100%|██████████| 3/3 [00:00<00:00,  9.65it/s]\n",
      "────────────────────────────────────────────────────────────────────────────────────────────────────────────────────────\n",
      "       Test metric             DataLoader 0\n",
      "────────────────────────────────────────────────────────────────────────────────────────────────────────────────────────\n",
      "        test_acc            0.9622641801834106\n",
      "        test_loss           0.09530588239431381\n",
      "────────────────────────────────────────────────────────────────────────────────────────────────────────────────────────\n"
     ]
    },
    {
     "data": {
      "image/png": "[encoded data removed]",
      "text/plain": [
       "<Figure size 800x600 with 2 Axes>"
      ]
     },
     "metadata": {},
     "output_type": "display_data"
    },
    {
     "data": {
      "image/png": "[encoded data removed]",
      "text/plain": [
       "<Figure size 640x480 with 1 Axes>"
      ]
     },
     "metadata": {},
     "output_type": "display_data"
    },
    {
     "name": "stdout",
     "output_type": "stream",
     "text": [
      "Average Precision score: 0.9298\n"
     ]
    },
    {
     "data": {
      "image/png": "[encoded data removed]",
      "text/plain": [
       "<Figure size 640x480 with 1 Axes>"
      ]
     },
     "metadata": {},
     "output_type": "display_data"
    },
    {
     "name": "stdout",
     "output_type": "stream",
     "text": [
      "\n",
      "Final test accuracy: 0.9623\n"
     ]
    },
    {
     "data": {
      "text/html": [
       "\n",
       "    <style>\n",
       "        .wandb-row {\n",
       "            display: flex;\n",
       "            flex-direction: row;\n",
       "            flex-wrap: wrap;\n",
       "            justify-content: flex-start;\n",
       "            width: 100%;\n",
       "        }\n",
       "        .wandb-col {\n",
       "            display: flex;\n",
       "            flex-direction: column;\n",
       "            flex-basis: 100%;\n",
       "            flex: 1;\n",
       "            padding: 10px;\n",
       "        }\n",
       "    </style>\n",
       "<div class=\"wandb-row\"><div class=\"wandb-col\"><h3>Run history:</h3><br/><table class=\"wandb\"><tr><td>epoch</td><td>▁▁▁▁▂▂▂▂▂▂▃▃▃▃▃▄▄▄▄▄▅▅▅▅▅▅▅▆▆▆▆▆▇▇▇▇▇▇██</td></tr><tr><td>final_test_accuracy</td><td>▁</td></tr><tr><td>test_acc</td><td>▁</td></tr><tr><td>test_loss</td><td>▁</td></tr><tr><td>train_acc_epoch</td><td>▁▂▂▄▄▅▆▆▆▆▇▇▇▇▇▇▇▇▇▇▇███████████████████</td></tr><tr><td>train_acc_step</td><td>▁▃▅▅▆▇▇█▇▇▇▇▇████▇</td></tr><tr><td>train_loss_epoch</td><td>█▇▆▆▅▄▄▃▃▃▃▂▂▂▂▂▂▂▂▂▂▁▂▁▁▁▁▁▁▁▁▁▁▁▁▁▁▁▁▁</td></tr><tr><td>train_loss_step</td><td>█▆▅▄▄▃▂▂▂▂▂▁▂▂▁▁▁▂</td></tr><tr><td>trainer/global_step</td><td>▁▁▁▁▂▂▂▂▂▂▃▃▃▃▃▃▄▄▄▄▄▄▄▅▅▅▅▅▅▆▆▆▇▇▇▇████</td></tr></table><br/></div><div class=\"wandb-col\"><h3>Run summary:</h3><br/><table class=\"wandb\"><tr><td>epoch</td><td>100</td></tr><tr><td>final_test_accuracy</td><td>0.96226</td></tr><tr><td>test_acc</td><td>0.96226</td></tr><tr><td>test_loss</td><td>0.09531</td></tr><tr><td>train_acc_epoch</td><td>0.98491</td></tr><tr><td>train_acc_step</td><td>0.97222</td></tr><tr><td>train_loss_epoch</td><td>0.05999</td></tr><tr><td>train_loss_step</td><td>0.08301</td></tr><tr><td>trainer/global_step</td><td>900</td></tr></table><br/></div></div>"
      ],
      "text/plain": [
       "<IPython.core.display.HTML object>"
      ]
     },
     "metadata": {},
     "output_type": "display_data"
    },
    {
     "data": {
      "text/html": [
       " View run <strong style=\"color:#cdcd00\">Final_Training_lr1e-05_conv[1, 32, 64, 128]_fc[1152, 128, 2]_batch128_dropout0.5</strong> at: <a href='https://wandb.ai/personlich/inverse_problem/runs/9dh0asfy' target=\"_blank\">https://wandb.ai/personlich/inverse_problem/runs/9dh0asfy</a><br/> View project at: <a href='https://wandb.ai/personlich/inverse_problem' target=\"_blank\">https://wandb.ai/personlich/inverse_problem</a><br/>Synced 5 W&B file(s), 0 media file(s), 0 artifact file(s) and 0 other file(s)"
      ],
      "text/plain": [
       "<IPython.core.display.HTML object>"
      ]
     },
     "metadata": {},
     "output_type": "display_data"
    },
    {
     "data": {
      "text/html": [
       "Find logs at: <code>./wandb/run-20241227_004117-9dh0asfy/logs</code>"
      ],
      "text/plain": [
       "<IPython.core.display.HTML object>"
      ]
     },
     "metadata": {},
     "output_type": "display_data"
    },
    {
     "name": "stdout",
     "output_type": "stream",
     "text": [
      "\n",
      "Finished wandb run\n"
     ]
    }
   ],
   "source": [
    "# Function for final training on the whole dataset with the best parameters\n",
    "def final_training(best_params_global):\n",
    "\n",
    "    X_trainval, X_test, y_trainval, y_test = train_test_split(\n",
    "            all_C, kmeans_label, test_size=0.2, random_state=42, stratify=kmeans_label\n",
    "        )\n",
    "\n",
    "    print(\"Data split sizes:\")\n",
    "    print(f\"Train: {len(X_trainval)} samples\")\n",
    "    print(f\"Test: {len(X_test)} samples\\n\")\n",
    "\n",
    "    print(\"\\nTraining final model with best parameters...\")\n",
    "    final_train_dataset = MatrixDataset(X_trainval, y_trainval)\n",
    "    final_test_dataset = MatrixDataset(X_test, y_test)\n",
    "\n",
    "    final_train_loader = DataLoader(final_train_dataset, batch_size=best_params_global['batch_size'], shuffle=True)\n",
    "    final_test_loader = DataLoader(final_test_dataset, batch_size=best_params_global['batch_size'])\n",
    "\n",
    "    final_model = CNNClassifier(\n",
    "        learning_rate=best_params_global['learning_rate'],\n",
    "        conv_channels=best_params_global['conv_channels'],\n",
    "        fc_units=best_params_global['fc_units'],\n",
    "        dropout_rate=best_params_global['dropout_rate']\n",
    "    )\n",
    "\n",
    "    # Initialize wandb with a relevant run name\n",
    "    \n",
    "    run_name = f\"Final_Training_lr{best_params_global['learning_rate']}_conv{best_params_global['conv_channels']}_fc{best_params_global['fc_units']}_batch{best_params_global['batch_size']}_dropout{best_params_global['dropout_rate']}\"\n",
    "    wandb.init(project=\"inverse_problem\", name=run_name)\n",
    "\n",
    "    final_trainer = pl.Trainer(\n",
    "        max_epochs=100,\n",
    "        logger=WandbLogger(project=\"inverse_problem\"),\n",
    "        accelerator='auto'\n",
    "    )\n",
    "\n",
    "    # Train the final model\n",
    "    final_trainer.fit(final_model, final_train_loader)\n",
    "\n",
    "    # Evaluate on test set\n",
    "    test_results = final_trainer.test(final_model, final_test_loader)\n",
    "\n",
    "    # Log final test accuracy to wandb\n",
    "    wandb.log({\"final_test_accuracy\": test_results[0]['test_acc']})\n",
    "\n",
    "    # Get predictions and true labels\n",
    "    y_pred = final_model.predict(final_test_loader)  \n",
    "    y_true = y_test  # True labels\n",
    "\n",
    "    # Confusion Matrix\n",
    "    cm = confusion_matrix(y_true, y_pred)\n",
    "    plt.figure(figsize=(8, 6))\n",
    "    sns.heatmap(cm, annot=True, fmt='d', cmap='Blues', xticklabels=np.unique(y_true), yticklabels=np.unique(y_true))\n",
    "    plt.xlabel('Predicted Label')\n",
    "    plt.ylabel('True Label')\n",
    "    plt.title('Confusion Matrix')\n",
    "    plt.show()\n",
    "\n",
    "    # ROC Curve\n",
    "    fpr, tpr, _ = roc_curve(y_true, y_pred)\n",
    "    roc_auc = auc(fpr, tpr)\n",
    "\n",
    "    plt.figure()\n",
    "    plt.plot(fpr, tpr, color='blue', lw=2, label='ROC curve (AUC = %0.2f)' % roc_auc)\n",
    "    plt.plot([0, 1], [0, 1], color='red', lw=2, linestyle='--')\n",
    "    plt.xlim([0.0, 1.0])\n",
    "    plt.ylim([0.0, 1.05])\n",
    "    plt.xlabel('False Positive Rate')\n",
    "    plt.ylabel('True Positive Rate')\n",
    "    plt.title('Receiver Operating Characteristic')\n",
    "    plt.legend(loc=\"lower right\")\n",
    "    plt.show()\n",
    "\n",
    "    # Precision-Recall Curve\n",
    "    precision, recall, _ = precision_recall_curve(y_true, y_pred)\n",
    "\n",
    "    ap_score = average_precision_score(y_true, y_pred)\n",
    "    print(f\"Average Precision score: {ap_score:.4f}\")\n",
    "\n",
    "    plt.figure()\n",
    "    plt.plot(recall, precision, color='blue', lw=2, label='PR curve (AP = %0.2f)' % ap_score)\n",
    "    plt.xlabel('Recall')\n",
    "    plt.ylabel('Precision')\n",
    "    plt.title('Precision-Recall curve')\n",
    "    plt.legend(loc=\"lower left\") \n",
    "    plt.show()\n",
    "\n",
    "    print(f\"\\nFinal test accuracy: {test_results[0]['test_acc']:.4f}\")\n",
    "\n",
    "    wandb.finish()\n",
    "    print(\"\\nFinished wandb run\")\n",
    "\n",
    "final_training(best_params_global) "
   ]
  }
 ],
 "metadata": {
  "kernelspec": {
   "display_name": "inverse_problem",
   "language": "python",
   "name": "python3"
  },
  "language_info": {
   "codemirror_mode": {
    "name": "ipython",
    "version": 3
   },
   "file_extension": ".py",
   "mimetype": "text/x-python",
   "name": "python",
   "nbconvert_exporter": "python",
   "pygments_lexer": "ipython3",
   "version": "3.11.10"
  }
 },
 "nbformat": 4,
 "nbformat_minor": 2
}
