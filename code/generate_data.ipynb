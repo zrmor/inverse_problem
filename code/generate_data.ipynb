{
 "cells": [
  {
   "cell_type": "code",
   "execution_count": 1,
   "metadata": {},
   "outputs": [],
   "source": [
    "from functions import *\n",
    "import os\n",
    "import time"
   ]
  },
  {
   "cell_type": "markdown",
   "metadata": {},
   "source": [
    "**check for bad hyperparameters**"
   ]
  },
  {
   "cell_type": "code",
   "execution_count": 4,
   "metadata": {},
   "outputs": [
    {
     "name": "stdout",
     "output_type": "stream",
     "text": [
      "730\n",
      "731\n",
      "732\n",
      "733\n",
      "734\n",
      "735\n",
      "736\n",
      "737\n"
     ]
    },
    {
     "name": "stderr",
     "output_type": "stream",
     "text": [
      "c:\\Users\\Reza\\Dropbox\\InverseProblems\\generate_data\\functions.py:251: RuntimeWarning: invalid value encountered in sqrt\n",
      "  J_TAP = (-2 * C_inv) / (1 + (1 - 8 * C_inv * m_outer)**0.5)\n"
     ]
    },
    {
     "name": "stdout",
     "output_type": "stream",
     "text": [
      "738\n",
      "739\n",
      "740\n",
      "741\n",
      "742\n",
      "743\n",
      "744\n",
      "745\n",
      "746\n",
      "747\n",
      "748\n",
      "749\n",
      "750\n",
      "751\n",
      "752\n",
      "753\n",
      "754\n",
      "755\n",
      "756\n",
      "757\n",
      "758\n",
      "759\n",
      "760\n",
      "761\n",
      "762\n",
      "763\n",
      "764\n",
      "765\n",
      "766\n",
      "767\n",
      "768\n",
      "769\n",
      "770\n",
      "771\n",
      "772\n",
      "773\n",
      "774\n",
      "775\n",
      "776\n",
      "777\n",
      "778\n",
      "779\n",
      "780\n",
      "781\n",
      "782\n",
      "783\n",
      "784\n",
      "785\n",
      "786\n",
      "787\n",
      "788\n",
      "789\n",
      "790\n",
      "791\n",
      "792\n",
      "793\n",
      "794\n",
      "795\n",
      "796\n",
      "797\n",
      "798\n",
      "799\n",
      "800\n",
      "801\n",
      "802\n",
      "803\n",
      "804\n",
      "805\n",
      "806\n",
      "807\n",
      "808\n",
      "809\n",
      "810\n",
      "811\n",
      "812\n",
      "813\n",
      "814\n",
      "815\n",
      "816\n",
      "817\n",
      "818\n",
      "819\n",
      "820\n",
      "821\n",
      "822\n",
      "823\n",
      "824\n",
      "825\n",
      "826\n",
      "827\n",
      "828\n",
      "829\n"
     ]
    }
   ],
   "source": [
    "# higher orders \n",
    "\n",
    "Size = 30\n",
    "Gamma_mean_list = np.linspace(0.00001, 1, 1)\n",
    "Gamma_var_list = np.linspace(0.00001, 1, 1)\n",
    "J_var_list = np.linspace(0.00001, 1, 50)\n",
    "J_mean_list = np.linspace(0.00001, 0.25, 10)\n",
    "h_var_list = np.linspace(0.00001,.5, 1)\n",
    "h_mean_list = np.linspace(0.00001, 0.5, 1)\n",
    "\n",
    "path = \"C:/Users/Reza/Dropbox/InverseProblems/generate_data\"\n",
    "counter =max([int(f.split(\"_\")[1][:-4]) for f in os.listdir(path) if f.startswith(\"C_\")])\n",
    "RMAE_df, exact_Js, nMF_Js, TAP_Js = generate_data(Gamma_var_list, J_var_list, h_var_list, Gamma_mean_list, J_mean_list, h_mean_list, Size, counter=counter)\n",
    "\n",
    "# pd.DataFrame(RMAE_df).to_csv(\"RMAE_df.csv\")"
   ]
  },
  {
   "cell_type": "code",
   "execution_count": null,
   "metadata": {},
   "outputs": [],
   "source": []
  }
 ],
 "metadata": {
  "kernelspec": {
   "display_name": "Python 3",
   "language": "python",
   "name": "python3"
  },
  "language_info": {
   "codemirror_mode": {
    "name": "ipython",
    "version": 3
   },
   "file_extension": ".py",
   "mimetype": "text/x-python",
   "name": "python",
   "nbconvert_exporter": "python",
   "pygments_lexer": "ipython3",
   "version": "3.12.6"
  }
 },
 "nbformat": 4,
 "nbformat_minor": 2
}
