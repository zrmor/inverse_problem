{
 "cells": [
  {
   "cell_type": "code",
   "execution_count": 1,
   "metadata": {},
   "outputs": [],
   "source": [
    "from functions import *\n",
    "import time"
   ]
  },
  {
   "cell_type": "markdown",
   "metadata": {},
   "source": [
    "**check for bad hyperparameters**"
   ]
  },
  {
   "cell_type": "code",
   "execution_count": 2,
   "metadata": {},
   "outputs": [
    {
     "name": "stdout",
     "output_type": "stream",
     "text": [
      "1\n"
     ]
    },
    {
     "name": "stderr",
     "output_type": "stream",
     "text": [
      "c:\\Users\\ASUS\\Dropbox\\J_Project_Inverse problem\\Codes\\InverseProblems\\functions.py:251: RuntimeWarning: invalid value encountered in sqrt\n",
      "  J_TAP = (-2 * C_inv) / (1 + (1 - 8 * C_inv * m_outer)**0.5)\n"
     ]
    },
    {
     "name": "stdout",
     "output_type": "stream",
     "text": [
      "2\n",
      "3\n",
      "4\n",
      "5\n",
      "6\n",
      "7\n",
      "8\n",
      "9\n",
      "10\n",
      "11\n",
      "12\n",
      "13\n",
      "14\n",
      "15\n",
      "16\n",
      "17\n",
      "18\n",
      "19\n",
      "20\n",
      "21\n",
      "22\n",
      "23\n",
      "24\n",
      "25\n",
      "26\n",
      "27\n",
      "28\n",
      "29\n",
      "30\n",
      "31\n",
      "32\n",
      "33\n",
      "34\n",
      "35\n",
      "36\n",
      "37\n",
      "38\n",
      "39\n",
      "40\n",
      "41\n",
      "42\n",
      "43\n",
      "44\n",
      "45\n",
      "46\n",
      "47\n",
      "48\n",
      "49\n",
      "50\n",
      "51\n",
      "52\n",
      "53\n",
      "54\n",
      "55\n",
      "56\n",
      "57\n",
      "58\n",
      "59\n",
      "60\n",
      "61\n",
      "62\n",
      "63\n",
      "64\n"
     ]
    }
   ],
   "source": [
    "# higher orders \n",
    "\n",
    "Size = 10\n",
    "Gamma_mean_list = np.linspace(0, 1, 2)\n",
    "Gamma_var_list = np.linspace(0.00001, 1, 2)\n",
    "J_var_list = np.linspace(0.001,0.5, 2)\n",
    "J_mean_list = np.linspace(0.001, 0.5, 2)\n",
    "h_var_list = np.linspace(0.001,.5, 2)\n",
    "h_mean_list = np.linspace(0.001, 0.5, 2)\n",
    "\n",
    "RMAE_df, exact_Js, nMF_Js, TAP_Js = generate_data(Gamma_var_list, J_var_list, h_var_list, Gamma_mean_list, J_mean_list, h_mean_list, Size)\n",
    "\n",
    "pd.DataFrame(RMAE_df).to_csv(\"RMAE_df.csv\")"
   ]
  }
 ],
 "metadata": {
  "kernelspec": {
   "display_name": "Python 3",
   "language": "python",
   "name": "python3"
  },
  "language_info": {
   "codemirror_mode": {
    "name": "ipython",
    "version": 3
   },
   "file_extension": ".py",
   "mimetype": "text/x-python",
   "name": "python",
   "nbconvert_exporter": "python",
   "pygments_lexer": "ipython3",
   "version": "3.11.9"
  }
 },
 "nbformat": 4,
 "nbformat_minor": 2
}
