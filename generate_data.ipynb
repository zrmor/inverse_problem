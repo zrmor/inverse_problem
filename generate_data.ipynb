{
 "cells": [
  {
   "cell_type": "code",
   "execution_count": null,
   "metadata": {},
   "outputs": [],
   "source": [
    "from functions import *\n",
    "import time"
   ]
  },
  {
   "cell_type": "markdown",
   "metadata": {},
   "source": [
    "**check for bad hyperparameters**"
   ]
  },
  {
   "cell_type": "code",
   "execution_count": null,
   "metadata": {},
   "outputs": [],
   "source": [
    "# higher orders \n",
    "\n",
    "Size = 10\n",
    "Gamma_mean_list = np.linspace(0, 1, 2)\n",
    "Gamma_var_list = np.linspace(0.00001, 1, 2)\n",
    "J_var_list = np.linspace(0.001,0.5, 2)\n",
    "J_mean_list = np.linspace(0.001, 0.5, 2)\n",
    "h_var_list = np.linspace(0.001,.5, 2)\n",
    "h_mean_list = np.linspace(0.001, 0.5, 2)\n",
    "\n",
    "RMAE_df, exact_Js, nMF_Js, TAP_Js = generate_data(Gamma_var_list, J_var_list, h_var_list, Gamma_mean_list, J_mean_list, h_mean_list, Size)\n",
    "\n",
    "# pd.DataFrame(RMAE_df).to_csv(\"RMAE_df.csv\")"
   ]
  }
 ],
 "metadata": {
  "kernelspec": {
   "display_name": "Python 3",
   "language": "python",
   "name": "python3"
  },
  "language_info": {
   "codemirror_mode": {
    "name": "ipython",
    "version": 3
   },
   "file_extension": ".py",
   "mimetype": "text/x-python",
   "name": "python",
   "nbconvert_exporter": "python",
   "pygments_lexer": "ipython3",
   "version": "3.11.9"
  }
 },
 "nbformat": 4,
 "nbformat_minor": 2
}
